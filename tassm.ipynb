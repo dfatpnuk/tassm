{
 "cells": [
  {
   "cell_type": "markdown",
   "metadata": {},
   "source": [
    "### The Art and Science of Segmentation Modelling\n",
    "by Jaime Blackwell\n"
   ]
  },
  {
   "cell_type": "code",
   "execution_count": 1,
   "metadata": {},
   "outputs": [
    {
     "name": "stdout",
     "output_type": "stream",
     "text": [
      "hello\n"
     ]
    }
   ],
   "source": [
    "from lib import tassm \n",
    "\n",
    "tassm.prep()"
   ]
  },
  {
   "cell_type": "markdown",
   "metadata": {},
   "source": [
    "Which tables will we use?\n",
    "- customers.csv\n",
    "- orders.csv"
   ]
  },
  {
   "cell_type": "markdown",
   "metadata": {},
   "source": [
    "### Step 1. Conceptualising the Problem/Task\n",
    "\n",
    "Before writing a single line of code or even looking at the data available, we must answer critical questions about the task at hand. Because I'm using the BikeStores sample database from sqlservertutorial.net, my answers are made up. \n",
    "\n",
    "1. What are we trying to achieve here?\n",
    "\n",
    "* We want to understand our customers so we can run more effective targeted ad campaigns.\n",
    "\n",
    "Once we've had a look at the available data, we can ask ourselves this question:\n",
    "\n",
    "2. What can be gained from segmenting this data?\n",
    "\n",
    "* Maybe the answer is nothing, or maybe there's lots to be gained. We can figure out the answer by checking whether we have sufficient information to answer question 1.\n",
    "\n",
    "3. What assumptions are we making about this data?\n",
    "\n",
    "* We assume this sample is representative of of our customer base.\n",
    "* We assume the data is accurate\n",
    "* \n"
   ]
  },
  {
   "cell_type": "markdown",
   "metadata": {},
   "source": [
    "### Step 2. Feature Engineering"
   ]
  },
  {
   "cell_type": "markdown",
   "metadata": {},
   "source": [
    "### Step X. Data Cleaning"
   ]
  },
  {
   "cell_type": "markdown",
   "metadata": {},
   "source": [
    "### Step X. Encoding and Scaling"
   ]
  },
  {
   "cell_type": "code",
   "execution_count": null,
   "metadata": {},
   "outputs": [],
   "source": [
    "# TODO: Select tables to use for segmentation. "
   ]
  },
  {
   "cell_type": "code",
   "execution_count": null,
   "metadata": {},
   "outputs": [],
   "source": []
  },
  {
   "cell_type": "code",
   "execution_count": null,
   "metadata": {},
   "outputs": [],
   "source": []
  },
  {
   "cell_type": "code",
   "execution_count": null,
   "metadata": {},
   "outputs": [],
   "source": []
  },
  {
   "cell_type": "markdown",
   "metadata": {},
   "source": [
    "### Resources Used\n",
    "1. https://www.sqlservertutorial.net/getting-started/sql-server-sample-database/\n",
    "2. \n"
   ]
  }
 ],
 "metadata": {
  "kernelspec": {
   "display_name": "venv_tassm",
   "language": "python",
   "name": "python3"
  },
  "language_info": {
   "codemirror_mode": {
    "name": "ipython",
    "version": 3
   },
   "file_extension": ".py",
   "mimetype": "text/x-python",
   "name": "python",
   "nbconvert_exporter": "python",
   "pygments_lexer": "ipython3",
   "version": "3.12.0"
  }
 },
 "nbformat": 4,
 "nbformat_minor": 2
}
